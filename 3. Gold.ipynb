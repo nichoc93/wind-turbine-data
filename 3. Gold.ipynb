{
 "cells": [
  {
   "cell_type": "code",
   "execution_count": null,
   "metadata": {},
   "outputs": [],
   "source": [
    "%run 'functions.ipynb'"
   ]
  },
  {
   "cell_type": "markdown",
   "metadata": {},
   "source": [
    "Extract"
   ]
  },
  {
   "cell_type": "code",
   "execution_count": 27,
   "metadata": {},
   "outputs": [],
   "source": [
    "# Read in our cleaned valid data from silver\n",
    "df_silver = spark.read.parquet('PipelineStages/Silver/Valid')"
   ]
  },
  {
   "cell_type": "markdown",
   "metadata": {},
   "source": [
    "Transform"
   ]
  },
  {
   "cell_type": "code",
   "execution_count": 30,
   "metadata": {},
   "outputs": [],
   "source": [
    "# Use our imported helper function to generate our summary dataframe\n",
    "df_summary_statistics_gold_df = generate_summary_statistics_gold_df(df_silver)"
   ]
  },
  {
   "cell_type": "code",
   "execution_count": 31,
   "metadata": {},
   "outputs": [],
   "source": [
    "# Use our imported helper function to generate any anomaly readings\n",
    "df_anomalies_gold_df = generate_anomalies_gold_df(df_silver)"
   ]
  },
  {
   "cell_type": "markdown",
   "metadata": {},
   "source": [
    "Load"
   ]
  },
  {
   "cell_type": "code",
   "execution_count": 32,
   "metadata": {},
   "outputs": [],
   "source": [
    "df_summary_statistics_gold_df.write.mode('overwrite').parquet(f'PipelineStages/Gold/summary_statistics')"
   ]
  },
  {
   "cell_type": "code",
   "execution_count": null,
   "metadata": {},
   "outputs": [],
   "source": [
    "df_anomalies_gold_df.write.mode('overwrite').parquet(f'PipelineStages/Gold/power_output_anomalies')"
   ]
  },
  {
   "cell_type": "code",
   "execution_count": null,
   "metadata": {},
   "outputs": [],
   "source": [
    "print(\"Gold completed successfully\")"
   ]
  }
 ],
 "metadata": {
  "interpreter": {
   "hash": "02effb55b36c50b793880894feb72bc6e2c19c827b038121749b9b9c87aaaab7"
  },
  "kernelspec": {
   "display_name": "Python 3.8.18 64-bit ('collibri': conda)",
   "language": "python",
   "name": "python3"
  },
  "language_info": {
   "codemirror_mode": {
    "name": "ipython",
    "version": 3
   },
   "file_extension": ".py",
   "mimetype": "text/x-python",
   "name": "python",
   "nbconvert_exporter": "python",
   "pygments_lexer": "ipython3",
   "version": "3.8.18"
  },
  "orig_nbformat": 4
 },
 "nbformat": 4,
 "nbformat_minor": 2
}
