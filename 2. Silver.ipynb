{
 "cells": [
  {
   "cell_type": "code",
   "execution_count": 1,
   "metadata": {},
   "outputs": [],
   "source": [
    "import pyspark.sql.functions as F\n",
    "from pyspark.sql.types import TimestampType, IntegerType, DoubleType\n"
   ]
  },
  {
   "cell_type": "markdown",
   "metadata": {},
   "source": [
    "Import our functions from the helper notebook "
   ]
  },
  {
   "cell_type": "code",
   "execution_count": null,
   "metadata": {},
   "outputs": [],
   "source": [
    "%run 'functions.ipynb'"
   ]
  },
  {
   "cell_type": "markdown",
   "metadata": {},
   "source": [
    "Extract"
   ]
  },
  {
   "cell_type": "code",
   "execution_count": 3,
   "metadata": {},
   "outputs": [
    {
     "name": "stderr",
     "output_type": "stream",
     "text": []
    }
   ],
   "source": [
    "df_bronze = spark.read.parquet('PipelineStages/Bronze/')"
   ]
  },
  {
   "cell_type": "markdown",
   "metadata": {},
   "source": [
    "Transform"
   ]
  },
  {
   "cell_type": "code",
   "execution_count": null,
   "metadata": {},
   "outputs": [],
   "source": [
    "# Cast types so we can perform calculations on the values later\n",
    "df_bronze = df_bronze \\\n",
    "    .withColumn(\"timestamp\", F.col(\"timestamp\").cast(TimestampType())) \\\n",
    "    .withColumn(\"turbine_id\", F.col(\"turbine_id\").cast(IntegerType())) \\\n",
    "    .withColumn(\"wind_speed\", F.col(\"wind_speed\").cast(DoubleType())) \\\n",
    "    .withColumn(\"wind_direction\", F.col(\"wind_direction\").cast(IntegerType())) \\\n",
    "    .withColumn(\"power_output\", F.col(\"power_output\").cast(DoubleType()))"
   ]
  },
  {
   "cell_type": "code",
   "execution_count": 7,
   "metadata": {},
   "outputs": [],
   "source": [
    "# Use our imported helper functions to extract our cleaned dataframe\n",
    "df_cleaned = extract_rows_with_null_data(df_bronze)\n",
    "df_cleaned = extract_outliers(df_cleaned)\n",
    "\n",
    "# Take our original dataframe and anti-join it to our cleaned dataframe to identify any records which were removed\n",
    "df_invalid_data = df_bronze.join(df_cleaned, [\"timestamp\", \"turbine_id\", \"wind_speed\", \"wind_direction\", \"power_output\"], \"left_anti\")"
   ]
  },
  {
   "cell_type": "markdown",
   "metadata": {},
   "source": [
    "Load"
   ]
  },
  {
   "cell_type": "code",
   "execution_count": 8,
   "metadata": {},
   "outputs": [
    {
     "name": "stderr",
     "output_type": "stream",
     "text": []
    }
   ],
   "source": [
    "# Write out our filtered records incase we want to use them for analysis later\n",
    "df_invalid_data.write.mode('overwrite').parquet(f'PipelineStages/Silver/Invalid')"
   ]
  },
  {
   "cell_type": "code",
   "execution_count": null,
   "metadata": {},
   "outputs": [],
   "source": [
    "# Write our cleaned dataframe into a separate folder that we can ingest upstream later\n",
    "df_cleaned.write.mode('overwrite').parquet(f'PipelineStages/Silver/Valid')"
   ]
  },
  {
   "cell_type": "code",
   "execution_count": null,
   "metadata": {},
   "outputs": [],
   "source": [
    "print(\"Silver completed successfully\")"
   ]
  }
 ],
 "metadata": {
  "interpreter": {
   "hash": "02effb55b36c50b793880894feb72bc6e2c19c827b038121749b9b9c87aaaab7"
  },
  "kernelspec": {
   "display_name": "Python 3.8.18 64-bit ('collibri': conda)",
   "language": "python",
   "name": "python3"
  },
  "language_info": {
   "codemirror_mode": {
    "name": "ipython",
    "version": 3
   },
   "file_extension": ".py",
   "mimetype": "text/x-python",
   "name": "python",
   "nbconvert_exporter": "python",
   "pygments_lexer": "ipython3",
   "version": "3.8.18"
  },
  "orig_nbformat": 4
 },
 "nbformat": 4,
 "nbformat_minor": 2
}
