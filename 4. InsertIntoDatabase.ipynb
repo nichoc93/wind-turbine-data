{
 "cells": [
  {
   "cell_type": "code",
   "execution_count": 21,
   "metadata": {},
   "outputs": [],
   "source": [
    "import sqlite3\n",
    "from pyspark.sql.functions import col\n",
    "import pandas as pd"
   ]
  },
  {
   "cell_type": "code",
   "execution_count": 22,
   "metadata": {},
   "outputs": [],
   "source": [
    "df_anomalies_gold_df = spark.read.parquet(f'PipelineStages/Gold/power_output_anomalies')\n"
   ]
  },
  {
   "cell_type": "code",
   "execution_count": 23,
   "metadata": {},
   "outputs": [],
   "source": [
    "# Use our imported helper function to generate our summary dataframe\n",
    "df_summary_statistics_gold_df = spark.read.parquet(f'PipelineStages/Gold/summary_statistics')\n"
   ]
  },
  {
   "cell_type": "markdown",
   "metadata": {},
   "source": [
    "Create our tables to insert into"
   ]
  },
  {
   "cell_type": "code",
   "execution_count": 24,
   "metadata": {},
   "outputs": [],
   "source": [
    "# Connect to SQLite database (this will create the database file if it doesn't exist)\n",
    "conn = sqlite3.connect('wind_turbine_data.db')\n",
    "\n",
    "# Create cursor object to execute SQL commands\n",
    "cursor = conn.cursor()\n",
    "\n",
    "# SQL to create table for anomaly data\n",
    "anomaly_table = \"\"\"\n",
    "CREATE TABLE IF NOT EXISTS anomalies (\n",
    "    timestamp TIMESTAMP,\n",
    "    turbine_id INTEGER,\n",
    "    power_output REAL,\n",
    "    mean_power_output REAL,\n",
    "    stddev_power_output REAL,\n",
    "    lower_bound REAL,\n",
    "    upper_bound REAL\n",
    ");\n",
    "\"\"\"\n",
    "\n",
    "# SQL to create table for summary statistics\n",
    "create_summary_stats_table = \"\"\"\n",
    "CREATE TABLE IF NOT EXISTS summary_statistics (\n",
    "    turbine_id INTEGER,\n",
    "    date DATE,\n",
    "    min_power_output REAL,\n",
    "    max_power_output REAL,\n",
    "    avg_power_output REAL\n",
    ");\n",
    "\"\"\"\n",
    "\n",
    "# Execute SQL commands\n",
    "cursor.execute(anomaly_table)\n",
    "cursor.execute(create_summary_stats_table)\n",
    "\n",
    "# Commit changes and close connection\n",
    "conn.commit()\n",
    "conn.close()\n"
   ]
  },
  {
   "cell_type": "markdown",
   "metadata": {},
   "source": [
    "Load our data into the created tables"
   ]
  },
  {
   "cell_type": "code",
   "execution_count": 25,
   "metadata": {},
   "outputs": [],
   "source": [
    "# Convert timestamp columns to string in PySpark due to datatype differences (we wouldn't typically use pandas but pandas connects to SQLite whereas spark doesn't)\n",
    "df_anomalies_gold_df = df_anomalies_gold_df.withColumn(\"timestamp\", col(\"timestamp\").cast(\"string\"))\n",
    "df_summary_statistics_gold_df = df_summary_statistics_gold_df.withColumn(\"date\", col(\"date\").cast(\"string\"))\n",
    "\n",
    "# Convert to Pandas DataFrame\n",
    "anomalies_pandas_df = df_anomalies_gold_df.toPandas()\n",
    "statistics_pandas_df = df_summary_statistics_gold_df.toPandas()\n",
    "\n",
    "# Convert string columns back to datetime in Pandas\n",
    "anomalies_pandas_df['timestamp'] = pd.to_datetime(anomalies_pandas_df['timestamp'])\n",
    "statistics_pandas_df['date'] = pd.to_datetime(statistics_pandas_df['date'])\n",
    "\n",
    "# Continue with writing to SQLite\n",
    "conn = sqlite3.connect('wind_turbine_data.db')\n",
    "anomalies_pandas_df.to_sql('anomalies', conn, if_exists='replace', index=False)\n",
    "statistics_pandas_df.to_sql('summary_statistics', conn, if_exists='replace', index=False)\n",
    "conn.close()\n"
   ]
  },
  {
   "cell_type": "code",
   "execution_count": 27,
   "metadata": {},
   "outputs": [
    {
     "name": "stdout",
     "output_type": "stream",
     "text": [
      "Database insert completed successfully\n"
     ]
    }
   ],
   "source": [
    "print(\"Database insert completed successfully\")"
   ]
  }
 ],
 "metadata": {
  "interpreter": {
   "hash": "02effb55b36c50b793880894feb72bc6e2c19c827b038121749b9b9c87aaaab7"
  },
  "kernelspec": {
   "display_name": "Python 3.8.18 64-bit ('collibri': conda)",
   "language": "python",
   "name": "python3"
  },
  "language_info": {
   "codemirror_mode": {
    "name": "ipython",
    "version": 3
   },
   "file_extension": ".py",
   "mimetype": "text/x-python",
   "name": "python",
   "nbconvert_exporter": "python",
   "pygments_lexer": "ipython3",
   "version": "3.8.18"
  },
  "orig_nbformat": 4
 },
 "nbformat": 4,
 "nbformat_minor": 2
}
